{
 "metadata": {
  "language_info": {
   "codemirror_mode": {
    "name": "ipython",
    "version": 3
   },
   "file_extension": ".py",
   "mimetype": "text/x-python",
   "name": "python",
   "nbconvert_exporter": "python",
   "pygments_lexer": "ipython3",
   "version": "3.8.3-final"
  },
  "orig_nbformat": 2,
  "kernelspec": {
   "name": "Python 3.8.3 64-bit ('base': conda)",
   "display_name": "Python 3.8.3 64-bit ('base': conda)",
   "metadata": {
    "interpreter": {
     "hash": "be2e7877c44afa397199e9cfbcd571547135c18cd55cff007376fb6d8ac3a739"
    }
   }
  }
 },
 "nbformat": 4,
 "nbformat_minor": 2,
 "cells": [
  {
   "cell_type": "code",
   "execution_count": 14,
   "metadata": {},
   "outputs": [],
   "source": [
    "import pandas as pd\n",
    "import numpy as np \n",
    "from datetime import datetime, timedelta\n",
    "import matplotlib.pyplot as plt\n",
    "%matplotlib inline"
   ]
  },
  {
   "cell_type": "code",
   "execution_count": 3,
   "metadata": {},
   "outputs": [
    {
     "output_type": "execute_result",
     "data": {
      "text/plain": "  Activity  Weight  Reps                    DateTime\n0       Pu      40    15  2020-09-29 08:45:04.830838\n1       Pu      40    20  2020-09-29 08:47:42.839794\n2       Pu      40    15  2020-09-29 09:24:34.350691\n3        P      40     8  2020-09-29 11:35:26.075974\n4       Pu      40    20  2020-09-29 11:36:19.083997",
      "text/html": "<div>\n<style scoped>\n    .dataframe tbody tr th:only-of-type {\n        vertical-align: middle;\n    }\n\n    .dataframe tbody tr th {\n        vertical-align: top;\n    }\n\n    .dataframe thead th {\n        text-align: right;\n    }\n</style>\n<table border=\"1\" class=\"dataframe\">\n  <thead>\n    <tr style=\"text-align: right;\">\n      <th></th>\n      <th>Activity</th>\n      <th>Weight</th>\n      <th>Reps</th>\n      <th>DateTime</th>\n    </tr>\n  </thead>\n  <tbody>\n    <tr>\n      <th>0</th>\n      <td>Pu</td>\n      <td>40</td>\n      <td>15</td>\n      <td>2020-09-29 08:45:04.830838</td>\n    </tr>\n    <tr>\n      <th>1</th>\n      <td>Pu</td>\n      <td>40</td>\n      <td>20</td>\n      <td>2020-09-29 08:47:42.839794</td>\n    </tr>\n    <tr>\n      <th>2</th>\n      <td>Pu</td>\n      <td>40</td>\n      <td>15</td>\n      <td>2020-09-29 09:24:34.350691</td>\n    </tr>\n    <tr>\n      <th>3</th>\n      <td>P</td>\n      <td>40</td>\n      <td>8</td>\n      <td>2020-09-29 11:35:26.075974</td>\n    </tr>\n    <tr>\n      <th>4</th>\n      <td>Pu</td>\n      <td>40</td>\n      <td>20</td>\n      <td>2020-09-29 11:36:19.083997</td>\n    </tr>\n  </tbody>\n</table>\n</div>"
     },
     "metadata": {},
     "execution_count": 3
    }
   ],
   "source": [
    "workout = pd.read_csv('workoutlog.csv')\n",
    "workout.head()"
   ]
  },
  {
   "cell_type": "code",
   "execution_count": 7,
   "metadata": {},
   "outputs": [],
   "source": [
    "#assign proper types\n",
    "workout['DateTime'] = pd.to_datetime(workout['DateTime'])\n",
    "workout['Date'] = workout['DateTime'].dt.date"
   ]
  },
  {
   "cell_type": "code",
   "execution_count": 18,
   "metadata": {},
   "outputs": [
    {
     "output_type": "execute_result",
     "data": {
      "text/plain": "                     Weight  Reps\nDate       Activity              \n2020-09-29 D            160    73\n           P            280    50\n           Pu           240   100",
      "text/html": "<div>\n<style scoped>\n    .dataframe tbody tr th:only-of-type {\n        vertical-align: middle;\n    }\n\n    .dataframe tbody tr th {\n        vertical-align: top;\n    }\n\n    .dataframe thead th {\n        text-align: right;\n    }\n</style>\n<table border=\"1\" class=\"dataframe\">\n  <thead>\n    <tr style=\"text-align: right;\">\n      <th></th>\n      <th></th>\n      <th>Weight</th>\n      <th>Reps</th>\n    </tr>\n    <tr>\n      <th>Date</th>\n      <th>Activity</th>\n      <th></th>\n      <th></th>\n    </tr>\n  </thead>\n  <tbody>\n    <tr>\n      <th rowspan=\"3\" valign=\"top\">2020-09-29</th>\n      <th>D</th>\n      <td>160</td>\n      <td>73</td>\n    </tr>\n    <tr>\n      <th>P</th>\n      <td>280</td>\n      <td>50</td>\n    </tr>\n    <tr>\n      <th>Pu</th>\n      <td>240</td>\n      <td>100</td>\n    </tr>\n  </tbody>\n</table>\n</div>"
     },
     "metadata": {},
     "execution_count": 18
    }
   ],
   "source": [
    "stats = workout.groupby(['Date','Activity'])\n",
    "stats.sum()"
   ]
  },
  {
   "cell_type": "code",
   "execution_count": 24,
   "metadata": {},
   "outputs": [
    {
     "output_type": "execute_result",
     "data": {
      "text/plain": "                     Weight       Reps\nDate       Activity                   \n2020-09-29 D           32.0  14.600000\n           P           40.0   7.142857\n           Pu          40.0  16.666667",
      "text/html": "<div>\n<style scoped>\n    .dataframe tbody tr th:only-of-type {\n        vertical-align: middle;\n    }\n\n    .dataframe tbody tr th {\n        vertical-align: top;\n    }\n\n    .dataframe thead th {\n        text-align: right;\n    }\n</style>\n<table border=\"1\" class=\"dataframe\">\n  <thead>\n    <tr style=\"text-align: right;\">\n      <th></th>\n      <th></th>\n      <th>Weight</th>\n      <th>Reps</th>\n    </tr>\n    <tr>\n      <th>Date</th>\n      <th>Activity</th>\n      <th></th>\n      <th></th>\n    </tr>\n  </thead>\n  <tbody>\n    <tr>\n      <th rowspan=\"3\" valign=\"top\">2020-09-29</th>\n      <th>D</th>\n      <td>32.0</td>\n      <td>14.600000</td>\n    </tr>\n    <tr>\n      <th>P</th>\n      <td>40.0</td>\n      <td>7.142857</td>\n    </tr>\n    <tr>\n      <th>Pu</th>\n      <td>40.0</td>\n      <td>16.666667</td>\n    </tr>\n  </tbody>\n</table>\n</div>"
     },
     "metadata": {},
     "execution_count": 24
    }
   ],
   "source": [
    "stats.mean()"
   ]
  },
  {
   "cell_type": "code",
   "execution_count": null,
   "metadata": {},
   "outputs": [],
   "source": []
  }
 ]
}